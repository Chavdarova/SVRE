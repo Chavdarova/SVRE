{
 "cells": [
  {
   "cell_type": "code",
   "execution_count": 1,
   "metadata": {
    "collapsed": true
   },
   "outputs": [],
   "source": [
    "import numpy as np\n",
    "import matplotlib.pyplot as plt\n",
    "### Set random seed\n",
    "np.random.seed(3)\n",
    "### Initialize the parameters\n",
    "d = 10**2\n",
    "n = d\n",
    "n_iter = 10**2\n",
    "### Initialize the variables\n",
    "x_0 = 1./np.sqrt(d)*np.random.randn(d)\n",
    "y_0 = 1./np.sqrt(d)*np.random.randn(d)\n",
    "norm_M = 0\n",
    "M = np.zeros((n,d,d))\n",
    "b = np.zeros((n,d))\n",
    "a = np.zeros((n,d))\n",
    "\n",
    "\n",
    "\n",
    "### Simple bilinear objective.\n",
    "for i in range(d):\n",
    "    M[i] = np.zeros((d,d))\n",
    "    M[i][i,i] = 1\n",
    "    a[i,:] = 1./np.sqrt(d)*np.random.randn(d)\n",
    "    b[i,:] = 1./np.sqrt(d)*np.random.randn(d)\n",
    "    \n",
    "    \n",
    "### Compute the solution\n",
    "M_mean = np.mean(M,0)\n",
    "b_mean = np.mean(b,0)\n",
    "a_mean = np.mean(a,0)\n",
    "y_star = np.linalg.solve(M_mean,-a_mean)\n",
    "x_star = np.linalg.solve(M_mean.T,-b_mean)\n",
    "\n",
    "\n",
    "### To save the data\n",
    "Results = {}"
   ]
  },
  {
   "cell_type": "code",
   "execution_count": 2,
   "metadata": {
    "collapsed": true
   },
   "outputs": [],
   "source": [
    "# These are the \"Tableau 20\" colors as RGB.    \n",
    "tableau20 = [(31, 119, 180), (174, 199, 232), (255, 127, 14), (255, 187, 120),    \n",
    "             (44, 160, 44), (152, 223, 138), (214, 39, 40), (255, 152, 150),    \n",
    "             (148, 103, 189), (197, 176, 213), (140, 86, 75), (196, 156, 148),    \n",
    "             (227, 119, 194), (247, 182, 210), (127, 127, 127), (199, 199, 199),    \n",
    "             (188, 189, 34), (219, 219, 141), (23, 190, 207), (158, 218, 229)]    \n",
    "  \n",
    "# Scale the RGB values to the [0, 1] range, which is the format matplotlib accepts.    \n",
    "for i in range(len(tableau20)):    \n",
    "    red, green, blue = tableau20[i]    \n",
    "    tableau20[i] = (red / 255., green / 255., blue / 255.) "
   ]
  },
  {
   "cell_type": "code",
   "execution_count": 3,
   "metadata": {
    "collapsed": true
   },
   "outputs": [
    {
     "name": "stderr",
     "output_type": "stream",
     "text": [
      "/home/gidelgau/anaconda3/lib/python3.7/site-packages/matplotlib/__init__.py:846: MatplotlibDeprecationWarning: \n",
      "The text.latex.unicode rcparam was deprecated in Matplotlib 2.2 and will be removed in 3.1.\n",
      "  \"2.2\", name=key, obj_type=\"rcparam\", addendum=addendum)\n"
     ]
    }
   ],
   "source": [
    "from IPython.core.interactiveshell import InteractiveShell\n",
    "InteractiveShell.ast_node_interactivity = \"all\"\n",
    "import pylab \n",
    "pylab.rcParams['figure.figsize'] = (8, 5)\n",
    "import numpy as np\n",
    "import matplotlib.pyplot as plt\n",
    "import json\n",
    "plt.rcParams['text.latex.preamble'] = [r\"\\usepackage{lmodern}\"]\n",
    "params = {'text.usetex': True,\n",
    "         'font.size': 15,\n",
    "         'font.family': 'lmodern',\n",
    "         'text.latex.unicode': True,\n",
    "         }\n",
    "plt.rcParams.update(params)"
   ]
  },
  {
   "cell_type": "code",
   "execution_count": 4,
   "metadata": {
    "collapsed": true
   },
   "outputs": [],
   "source": [
    "class adam:\n",
    "    def __init__(self,M,a,b , beta_1 = 0,beta_2= .99,epsilon_0 = 1e-16):\n",
    "        self.epsilon_0 = epsilon_0\n",
    "        self.beta_1 = beta_1\n",
    "        self.beta_2 = beta_2\n",
    "        self.first_moment_x = np.zeros(d)\n",
    "        self.first_moment_y = np.zeros(d)\n",
    "        self.second_moment_y = np.zeros(d)\n",
    "        self.second_moment_x = np.zeros(d)\n",
    "        self.M = M\n",
    "        self.a = a \n",
    "        self.b = b\n",
    "    def adam_direction(self,x,y,x_snap,y_snap,i,t):\n",
    "        (d_x,d_y) = SVRG_dir(x,y,x_snap,y_snap,i)\n",
    "        self.first_moment_x = self.beta_1 * self.first_moment_x + (1- self.beta_1)* d_x\n",
    "        self.second_moment_x = self.beta_2 * self.second_moment_x + (1-self.beta_2)  * d_x**2\n",
    "        self.first_moment_y = self.beta_1 * self.first_moment_y + (1- self.beta_1)* d_y\n",
    "        self.second_moment_y = self.beta_2 * self.second_moment_y + (1-self.beta_2)  * d_y**2\n",
    "        d_x_t =  d_x * np.abs(self.first_moment_x) / (1-self.beta_1**(t+1)) / (np.sqrt(self.second_moment_x)/(1-self.beta_2**(t+1))+self.epsilon_0)\n",
    "        d_y_t =  d_y * np.abs(self.first_moment_y) / (1-self.beta_1**(t+1)) / (np.sqrt(self.second_moment_y)/(1-self.beta_2**(t+1))+self.epsilon_0)\n",
    "        return (d_x_t,d_y_t)\n",
    "    def old_adam_direction(self,x,y,x_snap,y_snap,i,t):\n",
    "        (d_x,d_y) = SVRG_dir(x,y,x_snap,y_snap,i)\n",
    "        self.first_moment_x = self.beta_1 * self.first_moment_x + (1- self.beta_1)* d_x\n",
    "        self.second_moment_x = self.beta_2 * self.second_moment_x + (1-self.beta_2)  * d_x**2\n",
    "        self.first_moment_y = self.beta_1 * self.first_moment_y + (1- self.beta_1)* d_y\n",
    "        self.second_moment_y = self.beta_2 * self.second_moment_y + (1-self.beta_2)  * d_y**2\n",
    "        d_x_t =  self.first_moment_x / (1-self.beta_1**(t+1)) / (np.sqrt(self.second_moment_x)/(1-self.beta_2**(t+1))+self.epsilon_0)\n",
    "        d_y_t =  self.first_moment_y / (1-self.beta_1**(t+1)) / (np.sqrt(self.second_moment_y)/(1-self.beta_2**(t+1))+self.epsilon_0)\n",
    "        return (d_x_t,d_y_t)\n",
    "    def adadelta_direction(self,x,y,x_snap,y_snap,i,t):\n",
    "        (d_x,d_y) = SVRG_dir(x,y,x_snap,y_snap,i)\n",
    "        self.first_moment_x = self.beta_2 * self.first_moment_x + (1- self.beta_2)* d_x\n",
    "        self.second_moment_x = self.beta_2 * self.second_moment_x + (1-self.beta_2)  * d_x**2\n",
    "        self.first_moment_y = self.beta_2 * self.first_moment_y + (1- self.beta_2)* d_y\n",
    "        self.second_moment_y = self.beta_2 * self.second_moment_y + (1-self.beta_2)  * d_y**2\n",
    "        d_x_t =  d_x * self.first_moment_x **2 / (self.second_moment_x+self.epsilon_0)\n",
    "        d_y_t =  d_y * self.first_moment_y **2 / (self.second_moment_y+self.epsilon_0)\n",
    "        return (d_x_t,d_y_t)\n",
    "        "
   ]
  },
  {
   "cell_type": "code",
   "execution_count": 5,
   "metadata": {
    "collapsed": true
   },
   "outputs": [],
   "source": [
    "class gradient:\n",
    "    def __init__(self,M,a,b ,gamma = .1):\n",
    "        self.M = M\n",
    "        self.a = a \n",
    "        self.b = b\n",
    "        self.gamma = gamma\n",
    "        \n",
    "    def gradient_direction(self,x_t,y_t,i):\n",
    "        x_grad = (self.M[i].dot(y_t) + self.a[i])\n",
    "        y_grad = (self.M[i].T.dot(x_t)+ self.b[i])         \n",
    "        return (-self.gamma * x_grad,self.gamma * y_grad)"
   ]
  },
  {
   "cell_type": "code",
   "execution_count": 6,
   "metadata": {
    "collapsed": true
   },
   "outputs": [],
   "source": [
    "def proj(x): \n",
    "    n = x.shape[0]\n",
    "    #return np.minimum(np.ones(n),np.maximum(-np.ones(n),x))\n",
    "    return x\n",
    "\n",
    "def SVRG_dir(x,y,x_snap,y_snap,i):\n",
    "    d_x = M[i].dot(y) - M[i].dot(y_snap) + M_mean.dot(y_snap) + a_mean\n",
    "    d_y = M[i].T.dot(x) - M[i].T.dot(x_snap) + M_mean.T.dot(x_snap) + b_mean\n",
    "    return(d_x,d_y)\n",
    "\n",
    "def f_i(x,y,i):\n",
    "    return np.sum(x * M[i].dot(y) + a[i]*x+ b[i]*y)\n",
    "\n",
    "def progress(x,y,i,L,d_x,d_y,f):\n",
    "    x_ = x + d_x\n",
    "    y_ = y + d_y\n",
    "    norm_grad= np.sum((d_x)**2 + (d_y)**2 )\n",
    "    return np.abs(f(x_,y_,i) - f(x,y,i) - np.sum(d_x * (M[i].dot(y) + a[i]) + d_y * (M[i].T.dot(x) + b[i]))) <  L * norm_grad /2\n",
    "\n",
    "def lip_test(i,L,d,d_,x,x_,y,y_):\n",
    "    return np.linalg.norm(d_ - d) < L * np.sqrt(np.linalg.norm(x-x_)**2 + np.linalg.norm(y-y_))"
   ]
  },
  {
   "cell_type": "code",
   "execution_count": 7,
   "metadata": {},
   "outputs": [
    {
     "name": "stdout",
     "output_type": "stream",
     "text": [
      "9.615773703310373\n"
     ]
    }
   ],
   "source": [
    "f = 0\n",
    "for i in range(n):\n",
    "    f +=f_i(x_star,y_star,i)\n",
    "print(f)"
   ]
  },
  {
   "cell_type": "code",
   "execution_count": 8,
   "metadata": {
    "collapsed": true
   },
   "outputs": [],
   "source": [
    "def AdamSVRG(n_pass,nb_rand,x_0,y_0,x_star,y_star,n,alpha = .1, beta_1 = .99,beta_2= .999,epsilon_0 = 1e-8):\n",
    "    adam_grad = adam(M,a,b ,alpha = alpha, beta_1 = beta_1,beta_2= beta_2,epsilon_0 = epsilon_0)\n",
    "    l_norm_adam = np.zeros((nb_rand,10*n_pass+1))\n",
    "    l_norm_av = np.zeros((nb_rand,10*n_pass+1))\n",
    "    for ran in range(nb_rand):\n",
    "        x_t = x_0.copy()\n",
    "        y_t = y_0.copy()\n",
    "        x_t_av = x_t.copy()\n",
    "        y_t_av = y_t.copy()\n",
    "        norm_grad = np.linalg.norm(x_t-x_star) + np.linalg.norm(y_t-y_star)\n",
    "        l_norm_adam[ran,0] = norm_grad\n",
    "        l_norm_av[ran,0] = norm_grad\n",
    "        S_t = 1\n",
    "        for t in range(int(n_pass*n)):\n",
    "            i = np.random.randint(n)\n",
    "            for k in range(5):\n",
    "                d_t = adam_grad.adam_direction(x_t,y_t,i,t)\n",
    "                x_t = proj(x_t +d_t[0])\n",
    "            d_t = adam_grad.adam_direction(x_t,y_t,i,t)\n",
    "            x_t_av += x_t\n",
    "            y_t = proj(y_t+d_t[1])\n",
    "            y_t_av += y_t\n",
    "            S_t += 1\n",
    "            if np.mod(t*10,n) == 0:\n",
    "                norm_grad = np.linalg.norm(x_t-x_star) + np.linalg.norm(y_t-y_star)\n",
    "                l_norm_adam[ran,10*t//n+1] = norm_grad\n",
    "                norm_grad = np.linalg.norm(x_t_av/S_t-x_star) + np.linalg.norm(y_t_av/S_t-y_star)\n",
    "                l_norm_av[ran,10*t//n+1] = norm_grad\n",
    "    return (l_norm_adam,l_norm_av)"
   ]
  },
  {
   "cell_type": "code",
   "execution_count": 9,
   "metadata": {
    "collapsed": true
   },
   "outputs": [],
   "source": [
    "def AvgSGD(n_pass,nb_rand,x_0,y_0,x_star,y_star,n,gamma = .1, restart = .1):\n",
    "    l_SimSGD = np.zeros((nb_rand,10*n_pass+1))\n",
    "    l_AvgSGD = np.zeros((nb_rand,10*n_pass+1))\n",
    "    for ran in range(nb_rand):\n",
    "        x_grad = x_0.copy()\n",
    "        y_grad = y_0.copy()\n",
    "        x_grad_av = x_0.copy()\n",
    "        y_grad_av = y_0.copy()\n",
    "        S_t = 1\n",
    "        norm_grad = np.linalg.norm(x_grad_av/S_t-x_star) + np.linalg.norm(y_grad_av/S_t-y_star)\n",
    "        l_SimSGD[ran,0] = norm_grad\n",
    "        l_AvgSGD[ran,0] = norm_grad\n",
    "        for t in range(int(n_pass * n)):\n",
    "            # gamma = 0.1\n",
    "            if restart is not None:\n",
    "                if np.random.binomial(1,1./n * restart):\n",
    "                    x_grad = x_grad_av.copy()/S_t\n",
    "                    y_grad = y_grad_av.copy()/S_t\n",
    "                    S_t = 1\n",
    "                    x_grad_av = x_grad.copy()\n",
    "                    y_grad_av = y_grad.copy()\n",
    "            i = np.random.randint(n)\n",
    "            x_grad = proj(x_grad - gamma  * (M[i].dot(y_grad) + a[i]))\n",
    "            y_grad = proj(y_grad + gamma  * (M[i].T.dot(x_grad)+ b[i]))\n",
    "            x_grad_av +=  x_grad\n",
    "            y_grad_av +=  y_grad\n",
    "            S_t += 1\n",
    "            if np.mod(t*10,n) == 0:\n",
    "                norm_grad = np.linalg.norm(x_grad-x_star) + np.linalg.norm(y_grad-y_star)\n",
    "                l_SimSGD[ran,10*t//n+1] = norm_grad\n",
    "                norm_grad = np.linalg.norm(x_grad_av/S_t-x_star) + np.linalg.norm(y_grad_av/S_t-y_star)\n",
    "                l_AvgSGD[ran,10*t//n+1] = norm_grad\n",
    "    return (l_SimSGD,l_AvgSGD)"
   ]
  },
  {
   "cell_type": "code",
   "execution_count": 10,
   "metadata": {
    "collapsed": true
   },
   "outputs": [],
   "source": [
    "def ExtraSVRG(n_pass,nb_rand,x_0,y_0,x_star,y_star,n,gamma = .1,linesearch= None,restart = None,beta_2 = None, ada = None):\n",
    "    l_SEM =  np.zeros((nb_rand,10*n_pass//2+1))\n",
    "    l_avg_SEM = np.zeros((nb_rand,10*n_pass//2+1))\n",
    "    l_grad_SEM = np.zeros((nb_rand,10*n_pass//2+1))\n",
    "    if ada:\n",
    "            adam_grad = adam(M,a,b,beta_1 = 0,beta_2= beta_2)\n",
    "    for ran in range(nb_rand):\n",
    "        x_grad = x_0.copy()\n",
    "        y_grad = y_0.copy()\n",
    "        x_avg = x_0.copy()\n",
    "        y_avg = y_0.copy()\n",
    "        x_snap = x_0.copy()\n",
    "        y_snap = y_0.copy()\n",
    "        S_t = 1\n",
    "        gamma_x = gamma\n",
    "        gamma_y = gamma\n",
    "        l_grad = []\n",
    "        dist_opt = np.linalg.norm(x_grad-x_star) + np.linalg.norm(y_grad-y_star)\n",
    "        l_SEM[ran,0] = dist_opt\n",
    "        l_avg_SEM[ran,0] = dist_opt\n",
    "        for t in range(n_pass*n //2):\n",
    "            if np.random.binomial(1,1./n):\n",
    "                if restart is not None:\n",
    "                    if np.random.binomial(1,restart):\n",
    "                        x_grad = x_avg.copy()/S_t\n",
    "                        y_grad = y_avg.copy()/S_t\n",
    "                        S_t = 1\n",
    "                        x_avg = x_grad.copy()\n",
    "                        y_avg = y_grad.copy()\n",
    "                x_snap = x_grad.copy()\n",
    "                y_snap = y_grad.copy()\n",
    "            # First step\n",
    "            i = np.random.randint(n)\n",
    "            if ada == \"adam\":\n",
    "                (d_x,d_y) = adam_grad.adam_direction(x_grad,y_grad,x_snap,y_snap,i,t)\n",
    "            elif ada == \"delta\":\n",
    "                (d_x,d_y) = adam_grad.adadelta_direction(x_grad,y_grad,x_snap,y_snap,i,t)\n",
    "            elif ada == \"old adam\":\n",
    "                (d_x,d_y) = adam_grad.old_adam_direction(x_grad,y_grad,x_snap,y_snap,i,t)\n",
    "                l_grad.append((d_x,d_y))\n",
    "            else:\n",
    "                (d_x,d_y) = SVRG_dir(x_grad,y_grad,x_snap,y_snap,i)\n",
    "            x_extra = proj(x_grad - gamma_x * d_x)\n",
    "            y_extra = proj(y_grad + gamma_y * d_y)\n",
    "            x_avg += x_grad\n",
    "            y_avg += y_grad          \n",
    "            # Extrapolation step\n",
    "            i = np.random.randint(n)\n",
    "            if ada == \"adam\":\n",
    "                (d_x,d_y) = adam_grad.adam_direction(x_extra,y_extra,x_snap,y_snap,i,t)\n",
    "            elif ada == \"delta\":\n",
    "                (d_x,d_y) = adam_grad.adadelta_direction(x_extra,y_extra,x_snap,y_snap,i,t)\n",
    "            elif ada == \"old adam\":\n",
    "                (d_x,d_y) = adam_grad.old_adam_direction(x_extra,y_extra,x_snap,y_snap,i,t)\n",
    "            else:\n",
    "                (d_x,d_y) = SVRG_dir(x_extra,y_extra,x_snap,y_snap,i)\n",
    "            x_grad = proj(x_grad - gamma_x * d_x)\n",
    "            y_grad = proj(y_grad + gamma_y * d_y)\n",
    "            S_t += 1\n",
    "            if np.mod(t*10,n) == 0:\n",
    "                #print(\"diff point %f, diff grad:%f\" % (np.linalg.norm(x_extra-x_snap),np.linalg.norm(d_x - M_mean.dot(y_extra) - a_mean)))\n",
    "                l_SEM[ran,10*t//n+1] = np.linalg.norm(x_grad-x_star) + np.linalg.norm(y_grad-y_star)\n",
    "                l_avg_SEM[ran,10*t//n+1] = np.linalg.norm(x_avg/S_t-x_star) + np.linalg.norm(y_avg/S_t-y_star)\n",
    "    return(l_SEM,l_avg_SEM)\n"
   ]
  },
  {
   "cell_type": "code",
   "execution_count": 11,
   "metadata": {
    "collapsed": true
   },
   "outputs": [],
   "source": [
    "# ADAM baseline\n",
    "n_pass = 600\n",
    "nb_rand = 5\n",
    "alpha = .002\n",
    "beta_1 = 0\n",
    "beta_2 = .999\n",
    "epsilon_0 = 1e-8\n",
    "gamma = .3"
   ]
  },
  {
   "cell_type": "code",
   "execution_count": 12,
   "metadata": {
    "collapsed": true
   },
   "outputs": [],
   "source": [
    "l_adam = ExtraSVRG(n_pass,nb_rand,x_0,y_0,x_star,y_star,n,gamma = gamma,  beta_2 = 0.9, restart = .1, ada = \"adam\")\n",
    "#l_SimADAM = l_adam[0]\n",
    "l_AvgADAM = l_adam[1]"
   ]
  },
  {
   "cell_type": "code",
   "execution_count": 13,
   "metadata": {},
   "outputs": [],
   "source": [
    "l_old_adam = ExtraSVRG(n_pass,nb_rand,x_0,y_0,x_star,y_star,n,gamma = gamma,  beta_2 = 0.9, restart = .1, ada = \"old adam\")"
   ]
  },
  {
   "cell_type": "code",
   "execution_count": 14,
   "metadata": {
    "collapsed": true
   },
   "outputs": [],
   "source": [
    "l_grad = AvgSGD(n_pass,nb_rand,x_0,y_0,x_star,y_star,n,gamma = gamma, restart = .1)\n",
    "l_SGD = l_grad[0]\n",
    "l_AvgSGD = l_grad[1]"
   ]
  },
  {
   "cell_type": "code",
   "execution_count": 15,
   "metadata": {},
   "outputs": [],
   "source": [
    "l_SVRG, l_avg_SVRG = ExtraSVRG(n_pass,nb_rand,x_0,y_0,x_star,y_star,n,gamma = gamma)"
   ]
  },
  {
   "cell_type": "code",
   "execution_count": 16,
   "metadata": {
    "collapsed": true
   },
   "outputs": [],
   "source": [
    "l_SVRG_2, l_avg_SVRG_2 = ExtraSVRG(n_pass,nb_rand,x_0,y_0,x_star,y_star,n,gamma = gamma,restart=.05)\n",
    "l_SVRG_3, l_avg_SVRG_3 = ExtraSVRG(n_pass,nb_rand,x_0,y_0,x_star,y_star,n,gamma = gamma,restart=.1)\n",
    "l_SVRG_4, l_avg_SVRG_4 = ExtraSVRG(n_pass,nb_rand,x_0,y_0,x_star,y_star,n,gamma = gamma,restart=.5)"
   ]
  },
  {
   "cell_type": "code",
   "execution_count": 17,
   "metadata": {},
   "outputs": [],
   "source": [
    "def av_std(l):\n",
    "    av = np.mean(l,0)\n",
    "    std = np.std(l,0)/2\n",
    "    return (av,av + std,av-std)\n",
    "   \n",
    "AltSGD1,supAltSGD,infAltSGD = av_std(l_AvgSGD)\n",
    "ExtraSVRG1,supExtraSVRG,infExtraSVRG = av_std(l_avg_SVRG)\n",
    "ExtraSVRG2,supExtraSVRG2,infExtraSVRG2 = av_std(l_SVRG_2)\n",
    "ExtraSVRG3,supExtraSVRG3,infExtraSVRG3 = av_std(l_SVRG_3)\n",
    "ExtraSVRG4,supExtraSVRG4,infExtraSVRG4 = av_std(l_SVRG_4)\n",
    "AdaSVRG1,supAdaSVRG,infAdaSVRG = av_std(l_adam[0])\n",
    "AdaSVRG2,supAdaSVRG2,infAdaSVRG2 = av_std(l_old_adam[0])"
   ]
  },
  {
   "cell_type": "code",
   "execution_count": 18,
   "metadata": {},
   "outputs": [
    {
     "data": {
      "text/plain": [
       "(0, 600)"
      ]
     },
     "execution_count": 18,
     "metadata": {},
     "output_type": "execute_result"
    },
    {
     "data": {
      "text/plain": [
       "(5e-06, 3000)"
      ]
     },
     "execution_count": 18,
     "metadata": {},
     "output_type": "execute_result"
    },
    {
     "data": {
      "text/plain": [
       "[<matplotlib.lines.Line2D at 0x7f725ff17278>]"
      ]
     },
     "execution_count": 18,
     "metadata": {},
     "output_type": "execute_result"
    },
    {
     "data": {
      "text/plain": [
       "<matplotlib.collections.PolyCollection at 0x7f725fedea90>"
      ]
     },
     "execution_count": 18,
     "metadata": {},
     "output_type": "execute_result"
    },
    {
     "data": {
      "text/plain": [
       "[<matplotlib.lines.Line2D at 0x7f72800ad518>]"
      ]
     },
     "execution_count": 18,
     "metadata": {},
     "output_type": "execute_result"
    },
    {
     "data": {
      "text/plain": [
       "<matplotlib.collections.PolyCollection at 0x7f725fedeb38>"
      ]
     },
     "execution_count": 18,
     "metadata": {},
     "output_type": "execute_result"
    },
    {
     "data": {
      "text/plain": [
       "[<matplotlib.lines.Line2D at 0x7f725fedeef0>]"
      ]
     },
     "execution_count": 18,
     "metadata": {},
     "output_type": "execute_result"
    },
    {
     "data": {
      "text/plain": [
       "<matplotlib.collections.PolyCollection at 0x7f7271940710>"
      ]
     },
     "execution_count": 18,
     "metadata": {},
     "output_type": "execute_result"
    },
    {
     "data": {
      "text/plain": [
       "[<matplotlib.lines.Line2D at 0x7f72719404a8>]"
      ]
     },
     "execution_count": 18,
     "metadata": {},
     "output_type": "execute_result"
    },
    {
     "data": {
      "text/plain": [
       "<matplotlib.collections.PolyCollection at 0x7f7271940748>"
      ]
     },
     "execution_count": 18,
     "metadata": {},
     "output_type": "execute_result"
    },
    {
     "data": {
      "text/plain": [
       "[<matplotlib.lines.Line2D at 0x7f7271940a20>]"
      ]
     },
     "execution_count": 18,
     "metadata": {},
     "output_type": "execute_result"
    },
    {
     "data": {
      "text/plain": [
       "<matplotlib.collections.PolyCollection at 0x7f7271940c88>"
      ]
     },
     "execution_count": 18,
     "metadata": {},
     "output_type": "execute_result"
    },
    {
     "data": {
      "text/plain": [
       "[<matplotlib.lines.Line2D at 0x7f7271940f98>]"
      ]
     },
     "execution_count": 18,
     "metadata": {},
     "output_type": "execute_result"
    },
    {
     "data": {
      "text/plain": [
       "<matplotlib.collections.PolyCollection at 0x7f7271935208>"
      ]
     },
     "execution_count": 18,
     "metadata": {},
     "output_type": "execute_result"
    },
    {
     "data": {
      "text/plain": [
       "Text(0.5, 0, 'Number of passes')"
      ]
     },
     "execution_count": 18,
     "metadata": {},
     "output_type": "execute_result"
    },
    {
     "data": {
      "text/plain": [
       "Text(0, 0.5, 'Distance to the optimum')"
      ]
     },
     "execution_count": 18,
     "metadata": {},
     "output_type": "execute_result"
    },
    {
     "data": {
      "text/plain": [
       "<matplotlib.legend.Legend at 0x7f7271935550>"
      ]
     },
     "execution_count": 18,
     "metadata": {},
     "output_type": "execute_result"
    },
    {
     "name": "stderr",
     "output_type": "stream",
     "text": [
      "/home/gidelgau/anaconda3/lib/python3.7/site-packages/matplotlib/font_manager.py:1241: UserWarning: findfont: Font family ['lmodern'] not found. Falling back to DejaVu Sans.\n",
      "  (prop.get_family(), self.defaultFamily[fontext]))\n"
     ]
    },
    {
     "data": {
      "image/png": "[encoded data removed]",
      "text/plain": [
       "<Figure size 576x360 with 1 Axes>"
      ]
     },
     "metadata": {
      "needs_background": "light"
     },
     "output_type": "display_data"
    }
   ],
   "source": [
    "ax = plt.subplot(111)  \n",
    "ax.spines[\"top\"].set_visible(False)  \n",
    "ax.spines[\"bottom\"].set_visible(False)  \n",
    "ax.spines[\"right\"].set_visible(False)  \n",
    "ax.spines[\"left\"].set_visible(False)  \n",
    "\n",
    "# Ensure that the axis ticks only show up on the bottom and left of the plot.  \n",
    "# Ticks on the right and top of the plot are generally unnecessary chartjunk.  \n",
    "ax.get_xaxis().tick_bottom()  \n",
    "ax.get_yaxis().tick_left()  \n",
    "\n",
    "def plot_with_bar(l):\n",
    "    l,l_,_l = av_std(l)\n",
    "\n",
    "t_extra = 2.*np.array(range(n_pass*10//2+1)) / 10.\n",
    "t_grad = np.array(range(n_pass*10+1)) / 10.\n",
    "plt.xlim([0,600])\n",
    "plt.ylim([.000005,3000])\n",
    "\n",
    "plt.semilogy(t_grad,AltSGD1,label=\"AVG-AltSGD\", color = tableau20[1])\n",
    "plt.fill_between(t_grad,infAltSGD,supAltSGD, facecolor=tableau20[1], alpha = 0.3)\n",
    "\n",
    "plt.plot(t_extra,ExtraSVRG1,label=r\"AVG-SVRE\", color = tableau20[2])\n",
    "plt.fill_between(t_extra,infExtraSVRG,supExtraSVRG, facecolor=tableau20[2], alpha = 0.3)\n",
    "\n",
    "#plt.plot(t_extra,ExtraSVRG2,label=r\"SVRE p=1/20\", color = tableau20[3])\n",
    "#plt.fill_between(t_extra,infExtraSVRG2,supExtraSVRG2, facecolor=tableau20[3], alpha = 0.3)\n",
    "\n",
    "plt.plot(t_extra, ExtraSVRG4,label=r\"SVRE p=1/2\", color = tableau20[5])\n",
    "plt.fill_between(t_extra,infExtraSVRG4,supExtraSVRG4, facecolor=tableau20[5], alpha = 0.3)\n",
    "\n",
    "\n",
    "plt.plot(t_extra, ExtraSVRG3,label=r\"SVRE p=1/10\", color = tableau20[4])\n",
    "plt.fill_between(t_extra, infExtraSVRG3,supExtraSVRG3, facecolor=tableau20[4], alpha = 0.3)\n",
    "\n",
    "\n",
    "plt.plot(t_extra,AdaSVRG1,label=r\"SVRE-VRAd p=1/10\", color = tableau20[6])\n",
    "plt.fill_between(t_extra,infAdaSVRG,supAdaSVRG, facecolor=tableau20[6], alpha = 0.3)\n",
    "\n",
    "plt.plot(t_extra, AdaSVRG2,label=r\"SVRE-A p=1/10\", color = tableau20[7])\n",
    "plt.fill_between(t_extra, infAdaSVRG2,supAdaSVRG2, facecolor=tableau20[7], alpha = 0.3)\n",
    "\n",
    "plt.xlabel('Number of passes')\n",
    "plt.ylabel('Distance to the optimum')\n",
    "plt.grid()\n",
    "plt.legend(fancybox = True, framealpha = .5)\n",
    "plt.savefig('bilinear_obj.pdf',bbox_inches='tight')\n",
    "plt.show()"
   ]
  },
  {
   "cell_type": "code",
   "execution_count": null,
   "metadata": {},
   "outputs": [],
   "source": []
  }
 ],
 "metadata": {
  "kernelspec": {
   "display_name": "Python 3",
   "language": "python",
   "name": "python3"
  },
  "language_info": {
   "codemirror_mode": {
    "name": "ipython",
    "version": 3
   },
   "file_extension": ".py",
   "mimetype": "text/x-python",
   "name": "python",
   "nbconvert_exporter": "python",
   "pygments_lexer": "ipython3",
   "version": "3.7.1"
  }
 },
 "nbformat": 4,
 "nbformat_minor": 2
}
